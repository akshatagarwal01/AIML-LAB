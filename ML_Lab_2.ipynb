{
 "cells": [
  {
   "cell_type": "markdown",
   "metadata": {
    "id": "aVCmGCYPgF8Z"
   },
   "source": [
    "BHK: Number of Bedrooms, Hall, Kitchen.\n",
    "\n",
    "Rent: Rent of the Houses/Apartments/Flats.\n",
    "\n",
    "Size: Size of the Houses/Apartments/Flats in Square Feet.\n",
    "\n",
    "Floor: Houses/Apartments/Flats situated in which Floor and Total Number of Floors (Example: Ground out of 2, 3 out of 5, etc.)\n",
    "\n",
    "Area Type: Size of the Houses/Apartments/Flats calculated on either Super Area or Carpet Area or Build Area.\n",
    "\n",
    "Area Locality: Locality of the Houses/Apartments/Flats.\n",
    "\n",
    "City: City where the Houses/Apartments/Flats are Located.\n",
    "\n",
    "Furnishing Status: Furnishing Status of the Houses/Apartments/Flats, either it is Furnished or Semi-Furnished or Unfurnished.\n",
    "\n",
    "Tenant Preferred: Type of Tenant Preferred by the Owner or Agent.\n",
    "\n",
    "Bathroom: Number of Bathrooms.\n",
    "\n",
    "Point of Contact: Whom should you contact for more information regarding the Houses/Apartments/Flats."
   ]
  },
  {
   "cell_type": "code",
   "execution_count": 1,
   "metadata": {
    "id": "yZ_Z4faWfo3O"
   },
   "outputs": [],
   "source": [
    "import numpy as np\n",
    "import pandas as pd\n",
    "import matplotlib.pyplot as plt\n",
    "import seaborn as sns\n",
    "from sklearn.linear_model import LinearRegression\n",
    "from sklearn import metrics"
   ]
  },
  {
   "cell_type": "code",
   "execution_count": 2,
   "metadata": {
    "id": "Py2MogJ6f6Xs"
   },
   "outputs": [],
   "source": [
    "df=pd.read_csv('House_Rent_Dataset.csv')"
   ]
  },
  {
   "cell_type": "code",
   "execution_count": 3,
   "metadata": {
    "colab": {
     "base_uri": "https://localhost:8080/",
     "height": 354
    },
    "id": "TRuEKf6xf-92",
    "outputId": "92afac12-1cbf-4878-d282-e844bd0cb789"
   },
   "outputs": [
    {
     "data": {
      "text/html": [
       "<div>\n",
       "<style scoped>\n",
       "    .dataframe tbody tr th:only-of-type {\n",
       "        vertical-align: middle;\n",
       "    }\n",
       "\n",
       "    .dataframe tbody tr th {\n",
       "        vertical-align: top;\n",
       "    }\n",
       "\n",
       "    .dataframe thead th {\n",
       "        text-align: right;\n",
       "    }\n",
       "</style>\n",
       "<table border=\"1\" class=\"dataframe\">\n",
       "  <thead>\n",
       "    <tr style=\"text-align: right;\">\n",
       "      <th></th>\n",
       "      <th>Posted On</th>\n",
       "      <th>BHK</th>\n",
       "      <th>Rent</th>\n",
       "      <th>Size</th>\n",
       "      <th>Floor</th>\n",
       "      <th>Area Type</th>\n",
       "      <th>Area Locality</th>\n",
       "      <th>City</th>\n",
       "      <th>Furnishing Status</th>\n",
       "      <th>Tenant Preferred</th>\n",
       "      <th>Bathroom</th>\n",
       "      <th>Point of Contact</th>\n",
       "    </tr>\n",
       "  </thead>\n",
       "  <tbody>\n",
       "    <tr>\n",
       "      <th>0</th>\n",
       "      <td>2022-05-18</td>\n",
       "      <td>2</td>\n",
       "      <td>10000</td>\n",
       "      <td>1100</td>\n",
       "      <td>Ground out of 2</td>\n",
       "      <td>Super Area</td>\n",
       "      <td>Bandel</td>\n",
       "      <td>Kolkata</td>\n",
       "      <td>Unfurnished</td>\n",
       "      <td>Bachelors/Family</td>\n",
       "      <td>2</td>\n",
       "      <td>Contact Owner</td>\n",
       "    </tr>\n",
       "    <tr>\n",
       "      <th>1</th>\n",
       "      <td>2022-05-13</td>\n",
       "      <td>2</td>\n",
       "      <td>20000</td>\n",
       "      <td>800</td>\n",
       "      <td>1 out of 3</td>\n",
       "      <td>Super Area</td>\n",
       "      <td>Phool Bagan, Kankurgachi</td>\n",
       "      <td>Kolkata</td>\n",
       "      <td>Semi-Furnished</td>\n",
       "      <td>Bachelors/Family</td>\n",
       "      <td>1</td>\n",
       "      <td>Contact Owner</td>\n",
       "    </tr>\n",
       "    <tr>\n",
       "      <th>2</th>\n",
       "      <td>2022-05-16</td>\n",
       "      <td>2</td>\n",
       "      <td>17000</td>\n",
       "      <td>1000</td>\n",
       "      <td>1 out of 3</td>\n",
       "      <td>Super Area</td>\n",
       "      <td>Salt Lake City Sector 2</td>\n",
       "      <td>Kolkata</td>\n",
       "      <td>Semi-Furnished</td>\n",
       "      <td>Bachelors/Family</td>\n",
       "      <td>1</td>\n",
       "      <td>Contact Owner</td>\n",
       "    </tr>\n",
       "    <tr>\n",
       "      <th>3</th>\n",
       "      <td>2022-07-04</td>\n",
       "      <td>2</td>\n",
       "      <td>10000</td>\n",
       "      <td>800</td>\n",
       "      <td>1 out of 2</td>\n",
       "      <td>Super Area</td>\n",
       "      <td>Dumdum Park</td>\n",
       "      <td>Kolkata</td>\n",
       "      <td>Unfurnished</td>\n",
       "      <td>Bachelors/Family</td>\n",
       "      <td>1</td>\n",
       "      <td>Contact Owner</td>\n",
       "    </tr>\n",
       "    <tr>\n",
       "      <th>4</th>\n",
       "      <td>2022-05-09</td>\n",
       "      <td>2</td>\n",
       "      <td>7500</td>\n",
       "      <td>850</td>\n",
       "      <td>1 out of 2</td>\n",
       "      <td>Carpet Area</td>\n",
       "      <td>South Dum Dum</td>\n",
       "      <td>Kolkata</td>\n",
       "      <td>Unfurnished</td>\n",
       "      <td>Bachelors</td>\n",
       "      <td>1</td>\n",
       "      <td>Contact Owner</td>\n",
       "    </tr>\n",
       "  </tbody>\n",
       "</table>\n",
       "</div>"
      ],
      "text/plain": [
       "    Posted On  BHK   Rent  Size            Floor    Area Type  \\\n",
       "0  2022-05-18    2  10000  1100  Ground out of 2   Super Area   \n",
       "1  2022-05-13    2  20000   800       1 out of 3   Super Area   \n",
       "2  2022-05-16    2  17000  1000       1 out of 3   Super Area   \n",
       "3  2022-07-04    2  10000   800       1 out of 2   Super Area   \n",
       "4  2022-05-09    2   7500   850       1 out of 2  Carpet Area   \n",
       "\n",
       "              Area Locality     City Furnishing Status  Tenant Preferred  \\\n",
       "0                    Bandel  Kolkata       Unfurnished  Bachelors/Family   \n",
       "1  Phool Bagan, Kankurgachi  Kolkata    Semi-Furnished  Bachelors/Family   \n",
       "2   Salt Lake City Sector 2  Kolkata    Semi-Furnished  Bachelors/Family   \n",
       "3               Dumdum Park  Kolkata       Unfurnished  Bachelors/Family   \n",
       "4             South Dum Dum  Kolkata       Unfurnished         Bachelors   \n",
       "\n",
       "   Bathroom Point of Contact  \n",
       "0         2    Contact Owner  \n",
       "1         1    Contact Owner  \n",
       "2         1    Contact Owner  \n",
       "3         1    Contact Owner  \n",
       "4         1    Contact Owner  "
      ]
     },
     "execution_count": 3,
     "metadata": {},
     "output_type": "execute_result"
    }
   ],
   "source": [
    "df.head()"
   ]
  },
  {
   "cell_type": "code",
   "execution_count": 4,
   "metadata": {
    "colab": {
     "base_uri": "https://localhost:8080/"
    },
    "id": "mXI3kU12ggK6",
    "outputId": "96966643-8302-4b59-9805-26a375330f84"
   },
   "outputs": [
    {
     "name": "stdout",
     "output_type": "stream",
     "text": [
      "(4746, 12)\n"
     ]
    }
   ],
   "source": [
    "df.describe()\n",
    "print(df.shape)"
   ]
  },
  {
   "cell_type": "code",
   "execution_count": 5,
   "metadata": {
    "colab": {
     "base_uri": "https://localhost:8080/"
    },
    "id": "scOKPRc-mZH8",
    "outputId": "e9588622-974d-4aee-f39c-ed204ac5099b"
   },
   "outputs": [
    {
     "name": "stdout",
     "output_type": "stream",
     "text": [
      "(4746, 12)\n"
     ]
    }
   ],
   "source": [
    "df=df.sample(frac=1,random_state=42)\n",
    "print(df.shape)"
   ]
  },
  {
   "cell_type": "code",
   "execution_count": 6,
   "metadata": {
    "colab": {
     "base_uri": "https://localhost:8080/",
     "height": 354
    },
    "id": "O-qcHaGZqSnM",
    "outputId": "9c04512c-84be-46e2-b770-0cd06c73c99d"
   },
   "outputs": [
    {
     "data": {
      "text/html": [
       "<div>\n",
       "<style scoped>\n",
       "    .dataframe tbody tr th:only-of-type {\n",
       "        vertical-align: middle;\n",
       "    }\n",
       "\n",
       "    .dataframe tbody tr th {\n",
       "        vertical-align: top;\n",
       "    }\n",
       "\n",
       "    .dataframe thead th {\n",
       "        text-align: right;\n",
       "    }\n",
       "</style>\n",
       "<table border=\"1\" class=\"dataframe\">\n",
       "  <thead>\n",
       "    <tr style=\"text-align: right;\">\n",
       "      <th></th>\n",
       "      <th>Posted On</th>\n",
       "      <th>BHK</th>\n",
       "      <th>Rent</th>\n",
       "      <th>Size</th>\n",
       "      <th>Floor</th>\n",
       "      <th>Area Type</th>\n",
       "      <th>Area Locality</th>\n",
       "      <th>City</th>\n",
       "      <th>Furnishing Status</th>\n",
       "      <th>Tenant Preferred</th>\n",
       "      <th>Bathroom</th>\n",
       "      <th>Point of Contact</th>\n",
       "    </tr>\n",
       "  </thead>\n",
       "  <tbody>\n",
       "    <tr>\n",
       "      <th>1566</th>\n",
       "      <td>2022-06-23</td>\n",
       "      <td>2</td>\n",
       "      <td>16000</td>\n",
       "      <td>1100</td>\n",
       "      <td>2 out of 4</td>\n",
       "      <td>Super Area</td>\n",
       "      <td>Jaya Nagar Block 7, Jayanagar</td>\n",
       "      <td>Bangalore</td>\n",
       "      <td>Unfurnished</td>\n",
       "      <td>Bachelors/Family</td>\n",
       "      <td>2</td>\n",
       "      <td>Contact Owner</td>\n",
       "    </tr>\n",
       "    <tr>\n",
       "      <th>3159</th>\n",
       "      <td>2022-05-12</td>\n",
       "      <td>2</td>\n",
       "      <td>12000</td>\n",
       "      <td>800</td>\n",
       "      <td>2 out of 3</td>\n",
       "      <td>Super Area</td>\n",
       "      <td>Manikandan Nagar</td>\n",
       "      <td>Chennai</td>\n",
       "      <td>Furnished</td>\n",
       "      <td>Bachelors/Family</td>\n",
       "      <td>2</td>\n",
       "      <td>Contact Owner</td>\n",
       "    </tr>\n",
       "    <tr>\n",
       "      <th>538</th>\n",
       "      <td>2022-05-10</td>\n",
       "      <td>2</td>\n",
       "      <td>28000</td>\n",
       "      <td>518</td>\n",
       "      <td>5 out of 12</td>\n",
       "      <td>Carpet Area</td>\n",
       "      <td>Bhandup West</td>\n",
       "      <td>Mumbai</td>\n",
       "      <td>Semi-Furnished</td>\n",
       "      <td>Bachelors/Family</td>\n",
       "      <td>2</td>\n",
       "      <td>Contact Owner</td>\n",
       "    </tr>\n",
       "    <tr>\n",
       "      <th>2630</th>\n",
       "      <td>2022-06-08</td>\n",
       "      <td>3</td>\n",
       "      <td>8000</td>\n",
       "      <td>1500</td>\n",
       "      <td>1 out of 1</td>\n",
       "      <td>Carpet Area</td>\n",
       "      <td>Cherlopalli TIRUPATI</td>\n",
       "      <td>Delhi</td>\n",
       "      <td>Unfurnished</td>\n",
       "      <td>Bachelors/Family</td>\n",
       "      <td>3</td>\n",
       "      <td>Contact Owner</td>\n",
       "    </tr>\n",
       "    <tr>\n",
       "      <th>4418</th>\n",
       "      <td>2022-07-06</td>\n",
       "      <td>3</td>\n",
       "      <td>46000</td>\n",
       "      <td>2235</td>\n",
       "      <td>Ground out of 10</td>\n",
       "      <td>Carpet Area</td>\n",
       "      <td>Gachibowli</td>\n",
       "      <td>Hyderabad</td>\n",
       "      <td>Unfurnished</td>\n",
       "      <td>Family</td>\n",
       "      <td>5</td>\n",
       "      <td>Contact Agent</td>\n",
       "    </tr>\n",
       "  </tbody>\n",
       "</table>\n",
       "</div>"
      ],
      "text/plain": [
       "       Posted On  BHK   Rent  Size             Floor    Area Type  \\\n",
       "1566  2022-06-23    2  16000  1100        2 out of 4   Super Area   \n",
       "3159  2022-05-12    2  12000   800        2 out of 3   Super Area   \n",
       "538   2022-05-10    2  28000   518       5 out of 12  Carpet Area   \n",
       "2630  2022-06-08    3   8000  1500        1 out of 1  Carpet Area   \n",
       "4418  2022-07-06    3  46000  2235  Ground out of 10  Carpet Area   \n",
       "\n",
       "                      Area Locality       City Furnishing Status  \\\n",
       "1566  Jaya Nagar Block 7, Jayanagar  Bangalore       Unfurnished   \n",
       "3159               Manikandan Nagar    Chennai         Furnished   \n",
       "538                    Bhandup West     Mumbai    Semi-Furnished   \n",
       "2630           Cherlopalli TIRUPATI      Delhi       Unfurnished   \n",
       "4418                     Gachibowli  Hyderabad       Unfurnished   \n",
       "\n",
       "      Tenant Preferred  Bathroom Point of Contact  \n",
       "1566  Bachelors/Family         2    Contact Owner  \n",
       "3159  Bachelors/Family         2    Contact Owner  \n",
       "538   Bachelors/Family         2    Contact Owner  \n",
       "2630  Bachelors/Family         3    Contact Owner  \n",
       "4418            Family         5    Contact Agent  "
      ]
     },
     "execution_count": 6,
     "metadata": {},
     "output_type": "execute_result"
    }
   ],
   "source": [
    "df.head()"
   ]
  },
  {
   "cell_type": "code",
   "execution_count": 7,
   "metadata": {
    "colab": {
     "base_uri": "https://localhost:8080/",
     "height": 354
    },
    "id": "UyO6EGLoumrP",
    "outputId": "119569fa-efde-474b-b2f6-624e67e798b4"
   },
   "outputs": [
    {
     "data": {
      "text/html": [
       "<div>\n",
       "<style scoped>\n",
       "    .dataframe tbody tr th:only-of-type {\n",
       "        vertical-align: middle;\n",
       "    }\n",
       "\n",
       "    .dataframe tbody tr th {\n",
       "        vertical-align: top;\n",
       "    }\n",
       "\n",
       "    .dataframe thead th {\n",
       "        text-align: right;\n",
       "    }\n",
       "</style>\n",
       "<table border=\"1\" class=\"dataframe\">\n",
       "  <thead>\n",
       "    <tr style=\"text-align: right;\">\n",
       "      <th></th>\n",
       "      <th>Posted On</th>\n",
       "      <th>BHK</th>\n",
       "      <th>Rent</th>\n",
       "      <th>Size</th>\n",
       "      <th>Floor</th>\n",
       "      <th>Area Type</th>\n",
       "      <th>Area Locality</th>\n",
       "      <th>City</th>\n",
       "      <th>Furnishing Status</th>\n",
       "      <th>Tenant Preferred</th>\n",
       "      <th>Bathroom</th>\n",
       "      <th>Point of Contact</th>\n",
       "    </tr>\n",
       "  </thead>\n",
       "  <tbody>\n",
       "    <tr>\n",
       "      <th>4426</th>\n",
       "      <td>2022-06-29</td>\n",
       "      <td>3</td>\n",
       "      <td>25000</td>\n",
       "      <td>1500</td>\n",
       "      <td>1 out of 2</td>\n",
       "      <td>Carpet Area</td>\n",
       "      <td>Ayodhya Nagar, Quthbullapur</td>\n",
       "      <td>Hyderabad</td>\n",
       "      <td>Semi-Furnished</td>\n",
       "      <td>Family</td>\n",
       "      <td>3</td>\n",
       "      <td>Contact Owner</td>\n",
       "    </tr>\n",
       "    <tr>\n",
       "      <th>466</th>\n",
       "      <td>2022-06-13</td>\n",
       "      <td>3</td>\n",
       "      <td>20000</td>\n",
       "      <td>1200</td>\n",
       "      <td>3 out of 3</td>\n",
       "      <td>Super Area</td>\n",
       "      <td>Bansdroni</td>\n",
       "      <td>Kolkata</td>\n",
       "      <td>Unfurnished</td>\n",
       "      <td>Bachelors/Family</td>\n",
       "      <td>2</td>\n",
       "      <td>Contact Owner</td>\n",
       "    </tr>\n",
       "    <tr>\n",
       "      <th>3092</th>\n",
       "      <td>2022-07-06</td>\n",
       "      <td>2</td>\n",
       "      <td>20000</td>\n",
       "      <td>800</td>\n",
       "      <td>13 out of 17</td>\n",
       "      <td>Carpet Area</td>\n",
       "      <td>Vadapalani</td>\n",
       "      <td>Chennai</td>\n",
       "      <td>Semi-Furnished</td>\n",
       "      <td>Family</td>\n",
       "      <td>2</td>\n",
       "      <td>Contact Agent</td>\n",
       "    </tr>\n",
       "    <tr>\n",
       "      <th>3772</th>\n",
       "      <td>2022-05-17</td>\n",
       "      <td>3</td>\n",
       "      <td>85000</td>\n",
       "      <td>3500</td>\n",
       "      <td>Ground out of 1</td>\n",
       "      <td>Carpet Area</td>\n",
       "      <td>T Nagar</td>\n",
       "      <td>Chennai</td>\n",
       "      <td>Semi-Furnished</td>\n",
       "      <td>Bachelors/Family</td>\n",
       "      <td>3</td>\n",
       "      <td>Contact Agent</td>\n",
       "    </tr>\n",
       "    <tr>\n",
       "      <th>860</th>\n",
       "      <td>2022-06-20</td>\n",
       "      <td>1</td>\n",
       "      <td>25000</td>\n",
       "      <td>450</td>\n",
       "      <td>5 out of 7</td>\n",
       "      <td>Carpet Area</td>\n",
       "      <td>Goregaon West</td>\n",
       "      <td>Mumbai</td>\n",
       "      <td>Semi-Furnished</td>\n",
       "      <td>Bachelors</td>\n",
       "      <td>2</td>\n",
       "      <td>Contact Agent</td>\n",
       "    </tr>\n",
       "  </tbody>\n",
       "</table>\n",
       "</div>"
      ],
      "text/plain": [
       "       Posted On  BHK   Rent  Size            Floor    Area Type  \\\n",
       "4426  2022-06-29    3  25000  1500       1 out of 2  Carpet Area   \n",
       "466   2022-06-13    3  20000  1200       3 out of 3   Super Area   \n",
       "3092  2022-07-06    2  20000   800     13 out of 17  Carpet Area   \n",
       "3772  2022-05-17    3  85000  3500  Ground out of 1  Carpet Area   \n",
       "860   2022-06-20    1  25000   450       5 out of 7  Carpet Area   \n",
       "\n",
       "                    Area Locality       City Furnishing Status  \\\n",
       "4426  Ayodhya Nagar, Quthbullapur  Hyderabad    Semi-Furnished   \n",
       "466                     Bansdroni    Kolkata       Unfurnished   \n",
       "3092                   Vadapalani    Chennai    Semi-Furnished   \n",
       "3772                      T Nagar    Chennai    Semi-Furnished   \n",
       "860                 Goregaon West     Mumbai    Semi-Furnished   \n",
       "\n",
       "      Tenant Preferred  Bathroom Point of Contact  \n",
       "4426            Family         3    Contact Owner  \n",
       "466   Bachelors/Family         2    Contact Owner  \n",
       "3092            Family         2    Contact Agent  \n",
       "3772  Bachelors/Family         3    Contact Agent  \n",
       "860          Bachelors         2    Contact Agent  "
      ]
     },
     "execution_count": 7,
     "metadata": {},
     "output_type": "execute_result"
    }
   ],
   "source": [
    "test=df.tail(1000)\n",
    "test.tail()"
   ]
  },
  {
   "cell_type": "code",
   "execution_count": 8,
   "metadata": {
    "colab": {
     "base_uri": "https://localhost:8080/",
     "height": 658
    },
    "id": "YNKNKFsyvd9h",
    "outputId": "56611606-9f24-458e-922f-f8daf99bf0ed"
   },
   "outputs": [
    {
     "data": {
      "text/html": [
       "<div>\n",
       "<style scoped>\n",
       "    .dataframe tbody tr th:only-of-type {\n",
       "        vertical-align: middle;\n",
       "    }\n",
       "\n",
       "    .dataframe tbody tr th {\n",
       "        vertical-align: top;\n",
       "    }\n",
       "\n",
       "    .dataframe thead th {\n",
       "        text-align: right;\n",
       "    }\n",
       "</style>\n",
       "<table border=\"1\" class=\"dataframe\">\n",
       "  <thead>\n",
       "    <tr style=\"text-align: right;\">\n",
       "      <th></th>\n",
       "      <th>Posted On</th>\n",
       "      <th>BHK</th>\n",
       "      <th>Rent</th>\n",
       "      <th>Size</th>\n",
       "      <th>Floor</th>\n",
       "      <th>Area Type</th>\n",
       "      <th>Area Locality</th>\n",
       "      <th>City</th>\n",
       "      <th>Furnishing Status</th>\n",
       "      <th>Tenant Preferred</th>\n",
       "      <th>Bathroom</th>\n",
       "      <th>Point of Contact</th>\n",
       "    </tr>\n",
       "  </thead>\n",
       "  <tbody>\n",
       "    <tr>\n",
       "      <th>1566</th>\n",
       "      <td>2022-06-23</td>\n",
       "      <td>2</td>\n",
       "      <td>16000</td>\n",
       "      <td>1100</td>\n",
       "      <td>2 out of 4</td>\n",
       "      <td>Super Area</td>\n",
       "      <td>Jaya Nagar Block 7, Jayanagar</td>\n",
       "      <td>Bangalore</td>\n",
       "      <td>Unfurnished</td>\n",
       "      <td>Bachelors/Family</td>\n",
       "      <td>2</td>\n",
       "      <td>Contact Owner</td>\n",
       "    </tr>\n",
       "    <tr>\n",
       "      <th>3159</th>\n",
       "      <td>2022-05-12</td>\n",
       "      <td>2</td>\n",
       "      <td>12000</td>\n",
       "      <td>800</td>\n",
       "      <td>2 out of 3</td>\n",
       "      <td>Super Area</td>\n",
       "      <td>Manikandan Nagar</td>\n",
       "      <td>Chennai</td>\n",
       "      <td>Furnished</td>\n",
       "      <td>Bachelors/Family</td>\n",
       "      <td>2</td>\n",
       "      <td>Contact Owner</td>\n",
       "    </tr>\n",
       "    <tr>\n",
       "      <th>538</th>\n",
       "      <td>2022-05-10</td>\n",
       "      <td>2</td>\n",
       "      <td>28000</td>\n",
       "      <td>518</td>\n",
       "      <td>5 out of 12</td>\n",
       "      <td>Carpet Area</td>\n",
       "      <td>Bhandup West</td>\n",
       "      <td>Mumbai</td>\n",
       "      <td>Semi-Furnished</td>\n",
       "      <td>Bachelors/Family</td>\n",
       "      <td>2</td>\n",
       "      <td>Contact Owner</td>\n",
       "    </tr>\n",
       "    <tr>\n",
       "      <th>2630</th>\n",
       "      <td>2022-06-08</td>\n",
       "      <td>3</td>\n",
       "      <td>8000</td>\n",
       "      <td>1500</td>\n",
       "      <td>1 out of 1</td>\n",
       "      <td>Carpet Area</td>\n",
       "      <td>Cherlopalli TIRUPATI</td>\n",
       "      <td>Delhi</td>\n",
       "      <td>Unfurnished</td>\n",
       "      <td>Bachelors/Family</td>\n",
       "      <td>3</td>\n",
       "      <td>Contact Owner</td>\n",
       "    </tr>\n",
       "    <tr>\n",
       "      <th>4418</th>\n",
       "      <td>2022-07-06</td>\n",
       "      <td>3</td>\n",
       "      <td>46000</td>\n",
       "      <td>2235</td>\n",
       "      <td>Ground out of 10</td>\n",
       "      <td>Carpet Area</td>\n",
       "      <td>Gachibowli</td>\n",
       "      <td>Hyderabad</td>\n",
       "      <td>Unfurnished</td>\n",
       "      <td>Family</td>\n",
       "      <td>5</td>\n",
       "      <td>Contact Agent</td>\n",
       "    </tr>\n",
       "    <tr>\n",
       "      <th>...</th>\n",
       "      <td>...</td>\n",
       "      <td>...</td>\n",
       "      <td>...</td>\n",
       "      <td>...</td>\n",
       "      <td>...</td>\n",
       "      <td>...</td>\n",
       "      <td>...</td>\n",
       "      <td>...</td>\n",
       "      <td>...</td>\n",
       "      <td>...</td>\n",
       "      <td>...</td>\n",
       "      <td>...</td>\n",
       "    </tr>\n",
       "    <tr>\n",
       "      <th>1854</th>\n",
       "      <td>2022-05-11</td>\n",
       "      <td>2</td>\n",
       "      <td>8900</td>\n",
       "      <td>1100</td>\n",
       "      <td>1 out of 2</td>\n",
       "      <td>Super Area</td>\n",
       "      <td>Sarjapur Road</td>\n",
       "      <td>Bangalore</td>\n",
       "      <td>Semi-Furnished</td>\n",
       "      <td>Bachelors/Family</td>\n",
       "      <td>2</td>\n",
       "      <td>Contact Owner</td>\n",
       "    </tr>\n",
       "    <tr>\n",
       "      <th>4248</th>\n",
       "      <td>2022-06-22</td>\n",
       "      <td>2</td>\n",
       "      <td>12500</td>\n",
       "      <td>1200</td>\n",
       "      <td>2 out of 5</td>\n",
       "      <td>Super Area</td>\n",
       "      <td>Kompally</td>\n",
       "      <td>Hyderabad</td>\n",
       "      <td>Semi-Furnished</td>\n",
       "      <td>Bachelors/Family</td>\n",
       "      <td>2</td>\n",
       "      <td>Contact Owner</td>\n",
       "    </tr>\n",
       "    <tr>\n",
       "      <th>2872</th>\n",
       "      <td>2022-05-30</td>\n",
       "      <td>2</td>\n",
       "      <td>20000</td>\n",
       "      <td>950</td>\n",
       "      <td>2 out of 3</td>\n",
       "      <td>Carpet Area</td>\n",
       "      <td>Geeta Colony PRWS Block 3 And 7, Rajgarh Colony</td>\n",
       "      <td>Delhi</td>\n",
       "      <td>Semi-Furnished</td>\n",
       "      <td>Bachelors/Family</td>\n",
       "      <td>2</td>\n",
       "      <td>Contact Owner</td>\n",
       "    </tr>\n",
       "    <tr>\n",
       "      <th>3030</th>\n",
       "      <td>2022-05-12</td>\n",
       "      <td>2</td>\n",
       "      <td>14000</td>\n",
       "      <td>1000</td>\n",
       "      <td>1 out of 3</td>\n",
       "      <td>Super Area</td>\n",
       "      <td>Kanathur Reddikuppam</td>\n",
       "      <td>Chennai</td>\n",
       "      <td>Unfurnished</td>\n",
       "      <td>Bachelors/Family</td>\n",
       "      <td>2</td>\n",
       "      <td>Contact Owner</td>\n",
       "    </tr>\n",
       "    <tr>\n",
       "      <th>1205</th>\n",
       "      <td>2022-07-09</td>\n",
       "      <td>3</td>\n",
       "      <td>120000</td>\n",
       "      <td>1130</td>\n",
       "      <td>3 out of 7</td>\n",
       "      <td>Carpet Area</td>\n",
       "      <td>Bandra West</td>\n",
       "      <td>Mumbai</td>\n",
       "      <td>Semi-Furnished</td>\n",
       "      <td>Bachelors/Family</td>\n",
       "      <td>3</td>\n",
       "      <td>Contact Agent</td>\n",
       "    </tr>\n",
       "  </tbody>\n",
       "</table>\n",
       "<p>3746 rows × 12 columns</p>\n",
       "</div>"
      ],
      "text/plain": [
       "       Posted On  BHK    Rent  Size             Floor    Area Type  \\\n",
       "1566  2022-06-23    2   16000  1100        2 out of 4   Super Area   \n",
       "3159  2022-05-12    2   12000   800        2 out of 3   Super Area   \n",
       "538   2022-05-10    2   28000   518       5 out of 12  Carpet Area   \n",
       "2630  2022-06-08    3    8000  1500        1 out of 1  Carpet Area   \n",
       "4418  2022-07-06    3   46000  2235  Ground out of 10  Carpet Area   \n",
       "...          ...  ...     ...   ...               ...          ...   \n",
       "1854  2022-05-11    2    8900  1100        1 out of 2   Super Area   \n",
       "4248  2022-06-22    2   12500  1200        2 out of 5   Super Area   \n",
       "2872  2022-05-30    2   20000   950        2 out of 3  Carpet Area   \n",
       "3030  2022-05-12    2   14000  1000        1 out of 3   Super Area   \n",
       "1205  2022-07-09    3  120000  1130        3 out of 7  Carpet Area   \n",
       "\n",
       "                                        Area Locality       City  \\\n",
       "1566                    Jaya Nagar Block 7, Jayanagar  Bangalore   \n",
       "3159                                 Manikandan Nagar    Chennai   \n",
       "538                                      Bhandup West     Mumbai   \n",
       "2630                             Cherlopalli TIRUPATI      Delhi   \n",
       "4418                                       Gachibowli  Hyderabad   \n",
       "...                                               ...        ...   \n",
       "1854                                    Sarjapur Road  Bangalore   \n",
       "4248                                         Kompally  Hyderabad   \n",
       "2872  Geeta Colony PRWS Block 3 And 7, Rajgarh Colony      Delhi   \n",
       "3030                             Kanathur Reddikuppam    Chennai   \n",
       "1205                                      Bandra West     Mumbai   \n",
       "\n",
       "     Furnishing Status  Tenant Preferred  Bathroom Point of Contact  \n",
       "1566       Unfurnished  Bachelors/Family         2    Contact Owner  \n",
       "3159         Furnished  Bachelors/Family         2    Contact Owner  \n",
       "538     Semi-Furnished  Bachelors/Family         2    Contact Owner  \n",
       "2630       Unfurnished  Bachelors/Family         3    Contact Owner  \n",
       "4418       Unfurnished            Family         5    Contact Agent  \n",
       "...                ...               ...       ...              ...  \n",
       "1854    Semi-Furnished  Bachelors/Family         2    Contact Owner  \n",
       "4248    Semi-Furnished  Bachelors/Family         2    Contact Owner  \n",
       "2872    Semi-Furnished  Bachelors/Family         2    Contact Owner  \n",
       "3030       Unfurnished  Bachelors/Family         2    Contact Owner  \n",
       "1205    Semi-Furnished  Bachelors/Family         3    Contact Agent  \n",
       "\n",
       "[3746 rows x 12 columns]"
      ]
     },
     "execution_count": 8,
     "metadata": {},
     "output_type": "execute_result"
    }
   ],
   "source": [
    "df=df.head(3746)\n",
    "df"
   ]
  },
  {
   "cell_type": "code",
   "execution_count": 9,
   "metadata": {
    "colab": {
     "base_uri": "https://localhost:8080/",
     "height": 658
    },
    "id": "wS2TaMm7vqHR",
    "outputId": "11991f4e-666b-46fd-b7db-f627e45ede89"
   },
   "outputs": [
    {
     "data": {
      "text/html": [
       "<div>\n",
       "<style scoped>\n",
       "    .dataframe tbody tr th:only-of-type {\n",
       "        vertical-align: middle;\n",
       "    }\n",
       "\n",
       "    .dataframe tbody tr th {\n",
       "        vertical-align: top;\n",
       "    }\n",
       "\n",
       "    .dataframe thead th {\n",
       "        text-align: right;\n",
       "    }\n",
       "</style>\n",
       "<table border=\"1\" class=\"dataframe\">\n",
       "  <thead>\n",
       "    <tr style=\"text-align: right;\">\n",
       "      <th></th>\n",
       "      <th>Posted On</th>\n",
       "      <th>BHK</th>\n",
       "      <th>Rent</th>\n",
       "      <th>Size</th>\n",
       "      <th>Floor</th>\n",
       "      <th>Area Type</th>\n",
       "      <th>Area Locality</th>\n",
       "      <th>City</th>\n",
       "      <th>Furnishing Status</th>\n",
       "      <th>Tenant Preferred</th>\n",
       "      <th>Bathroom</th>\n",
       "      <th>Point of Contact</th>\n",
       "    </tr>\n",
       "  </thead>\n",
       "  <tbody>\n",
       "    <tr>\n",
       "      <th>1879</th>\n",
       "      <td>2022-06-20</td>\n",
       "      <td>1</td>\n",
       "      <td>7000</td>\n",
       "      <td>400</td>\n",
       "      <td>Ground out of 2</td>\n",
       "      <td>Super Area</td>\n",
       "      <td>Mathikere</td>\n",
       "      <td>Bangalore</td>\n",
       "      <td>Semi-Furnished</td>\n",
       "      <td>Bachelors/Family</td>\n",
       "      <td>1</td>\n",
       "      <td>Contact Owner</td>\n",
       "    </tr>\n",
       "    <tr>\n",
       "      <th>4273</th>\n",
       "      <td>2022-05-20</td>\n",
       "      <td>3</td>\n",
       "      <td>14000</td>\n",
       "      <td>1000</td>\n",
       "      <td>1 out of 2</td>\n",
       "      <td>Super Area</td>\n",
       "      <td>Malakpet, NH 9</td>\n",
       "      <td>Hyderabad</td>\n",
       "      <td>Unfurnished</td>\n",
       "      <td>Bachelors/Family</td>\n",
       "      <td>2</td>\n",
       "      <td>Contact Owner</td>\n",
       "    </tr>\n",
       "    <tr>\n",
       "      <th>1199</th>\n",
       "      <td>2022-06-27</td>\n",
       "      <td>3</td>\n",
       "      <td>120000</td>\n",
       "      <td>1200</td>\n",
       "      <td>5 out of 14</td>\n",
       "      <td>Carpet Area</td>\n",
       "      <td>Salvation CHS, Dadar West</td>\n",
       "      <td>Mumbai</td>\n",
       "      <td>Furnished</td>\n",
       "      <td>Bachelors/Family</td>\n",
       "      <td>3</td>\n",
       "      <td>Contact Agent</td>\n",
       "    </tr>\n",
       "    <tr>\n",
       "      <th>3873</th>\n",
       "      <td>2022-07-10</td>\n",
       "      <td>3</td>\n",
       "      <td>28000</td>\n",
       "      <td>1050</td>\n",
       "      <td>5 out of 10</td>\n",
       "      <td>Carpet Area</td>\n",
       "      <td>Pallavaram</td>\n",
       "      <td>Chennai</td>\n",
       "      <td>Semi-Furnished</td>\n",
       "      <td>Bachelors/Family</td>\n",
       "      <td>3</td>\n",
       "      <td>Contact Agent</td>\n",
       "    </tr>\n",
       "    <tr>\n",
       "      <th>2522</th>\n",
       "      <td>2022-07-03</td>\n",
       "      <td>2</td>\n",
       "      <td>22000</td>\n",
       "      <td>800</td>\n",
       "      <td>3 out of 3</td>\n",
       "      <td>Super Area</td>\n",
       "      <td>Chhattarpur</td>\n",
       "      <td>Delhi</td>\n",
       "      <td>Furnished</td>\n",
       "      <td>Bachelors/Family</td>\n",
       "      <td>2</td>\n",
       "      <td>Contact Owner</td>\n",
       "    </tr>\n",
       "    <tr>\n",
       "      <th>...</th>\n",
       "      <td>...</td>\n",
       "      <td>...</td>\n",
       "      <td>...</td>\n",
       "      <td>...</td>\n",
       "      <td>...</td>\n",
       "      <td>...</td>\n",
       "      <td>...</td>\n",
       "      <td>...</td>\n",
       "      <td>...</td>\n",
       "      <td>...</td>\n",
       "      <td>...</td>\n",
       "      <td>...</td>\n",
       "    </tr>\n",
       "    <tr>\n",
       "      <th>3886</th>\n",
       "      <td>2022-05-30</td>\n",
       "      <td>1</td>\n",
       "      <td>7000</td>\n",
       "      <td>150</td>\n",
       "      <td>Ground out of 2</td>\n",
       "      <td>Super Area</td>\n",
       "      <td>Musheerabad</td>\n",
       "      <td>Hyderabad</td>\n",
       "      <td>Unfurnished</td>\n",
       "      <td>Bachelors/Family</td>\n",
       "      <td>1</td>\n",
       "      <td>Contact Owner</td>\n",
       "    </tr>\n",
       "    <tr>\n",
       "      <th>1652</th>\n",
       "      <td>2022-05-23</td>\n",
       "      <td>1</td>\n",
       "      <td>7500</td>\n",
       "      <td>600</td>\n",
       "      <td>1 out of 2</td>\n",
       "      <td>Super Area</td>\n",
       "      <td>Bommanahalli</td>\n",
       "      <td>Bangalore</td>\n",
       "      <td>Semi-Furnished</td>\n",
       "      <td>Bachelors/Family</td>\n",
       "      <td>1</td>\n",
       "      <td>Contact Owner</td>\n",
       "    </tr>\n",
       "    <tr>\n",
       "      <th>3807</th>\n",
       "      <td>2022-06-11</td>\n",
       "      <td>2</td>\n",
       "      <td>10000</td>\n",
       "      <td>700</td>\n",
       "      <td>Ground out of 2</td>\n",
       "      <td>Super Area</td>\n",
       "      <td>Zamin Pallavaram, Pallavaram</td>\n",
       "      <td>Chennai</td>\n",
       "      <td>Unfurnished</td>\n",
       "      <td>Bachelors/Family</td>\n",
       "      <td>2</td>\n",
       "      <td>Contact Owner</td>\n",
       "    </tr>\n",
       "    <tr>\n",
       "      <th>2963</th>\n",
       "      <td>2022-06-29</td>\n",
       "      <td>2</td>\n",
       "      <td>16500</td>\n",
       "      <td>950</td>\n",
       "      <td>2 out of 4</td>\n",
       "      <td>Carpet Area</td>\n",
       "      <td>Indraprastha Extension, Patparganj</td>\n",
       "      <td>Delhi</td>\n",
       "      <td>Unfurnished</td>\n",
       "      <td>Bachelors</td>\n",
       "      <td>1</td>\n",
       "      <td>Contact Agent</td>\n",
       "    </tr>\n",
       "    <tr>\n",
       "      <th>3799</th>\n",
       "      <td>2022-05-25</td>\n",
       "      <td>3</td>\n",
       "      <td>70000</td>\n",
       "      <td>1450</td>\n",
       "      <td>Ground out of 2</td>\n",
       "      <td>Super Area</td>\n",
       "      <td>Madipakkam</td>\n",
       "      <td>Chennai</td>\n",
       "      <td>Unfurnished</td>\n",
       "      <td>Bachelors/Family</td>\n",
       "      <td>2</td>\n",
       "      <td>Contact Owner</td>\n",
       "    </tr>\n",
       "  </tbody>\n",
       "</table>\n",
       "<p>2997 rows × 12 columns</p>\n",
       "</div>"
      ],
      "text/plain": [
       "       Posted On  BHK    Rent  Size            Floor    Area Type  \\\n",
       "1879  2022-06-20    1    7000   400  Ground out of 2   Super Area   \n",
       "4273  2022-05-20    3   14000  1000       1 out of 2   Super Area   \n",
       "1199  2022-06-27    3  120000  1200      5 out of 14  Carpet Area   \n",
       "3873  2022-07-10    3   28000  1050      5 out of 10  Carpet Area   \n",
       "2522  2022-07-03    2   22000   800       3 out of 3   Super Area   \n",
       "...          ...  ...     ...   ...              ...          ...   \n",
       "3886  2022-05-30    1    7000   150  Ground out of 2   Super Area   \n",
       "1652  2022-05-23    1    7500   600       1 out of 2   Super Area   \n",
       "3807  2022-06-11    2   10000   700  Ground out of 2   Super Area   \n",
       "2963  2022-06-29    2   16500   950       2 out of 4  Carpet Area   \n",
       "3799  2022-05-25    3   70000  1450  Ground out of 2   Super Area   \n",
       "\n",
       "                           Area Locality       City Furnishing Status  \\\n",
       "1879                           Mathikere  Bangalore    Semi-Furnished   \n",
       "4273                      Malakpet, NH 9  Hyderabad       Unfurnished   \n",
       "1199           Salvation CHS, Dadar West     Mumbai         Furnished   \n",
       "3873                          Pallavaram    Chennai    Semi-Furnished   \n",
       "2522                         Chhattarpur      Delhi         Furnished   \n",
       "...                                  ...        ...               ...   \n",
       "3886                         Musheerabad  Hyderabad       Unfurnished   \n",
       "1652                        Bommanahalli  Bangalore    Semi-Furnished   \n",
       "3807        Zamin Pallavaram, Pallavaram    Chennai       Unfurnished   \n",
       "2963  Indraprastha Extension, Patparganj      Delhi       Unfurnished   \n",
       "3799                          Madipakkam    Chennai       Unfurnished   \n",
       "\n",
       "      Tenant Preferred  Bathroom Point of Contact  \n",
       "1879  Bachelors/Family         1    Contact Owner  \n",
       "4273  Bachelors/Family         2    Contact Owner  \n",
       "1199  Bachelors/Family         3    Contact Agent  \n",
       "3873  Bachelors/Family         3    Contact Agent  \n",
       "2522  Bachelors/Family         2    Contact Owner  \n",
       "...                ...       ...              ...  \n",
       "3886  Bachelors/Family         1    Contact Owner  \n",
       "1652  Bachelors/Family         1    Contact Owner  \n",
       "3807  Bachelors/Family         2    Contact Owner  \n",
       "2963         Bachelors         1    Contact Agent  \n",
       "3799  Bachelors/Family         2    Contact Owner  \n",
       "\n",
       "[2997 rows x 12 columns]"
      ]
     },
     "execution_count": 9,
     "metadata": {},
     "output_type": "execute_result"
    }
   ],
   "source": [
    "train=df.sample(frac=0.8)\n",
    "train"
   ]
  },
  {
   "cell_type": "code",
   "execution_count": 10,
   "metadata": {
    "colab": {
     "base_uri": "https://localhost:8080/"
    },
    "id": "KisAPq4SxK2v",
    "outputId": "b9ac3f81-c2b5-48ad-a5d4-f3f12c09a6bd"
   },
   "outputs": [
    {
     "name": "stdout",
     "output_type": "stream",
     "text": [
      "Posted On            object\n",
      "BHK                   int64\n",
      "Rent                  int64\n",
      "Size                  int64\n",
      "Floor                object\n",
      "Area Type            object\n",
      "Area Locality        object\n",
      "City                 object\n",
      "Furnishing Status    object\n",
      "Tenant Preferred     object\n",
      "Bathroom              int64\n",
      "Point of Contact     object\n",
      "dtype: object\n",
      "Posted On            749\n",
      "BHK                  749\n",
      "Rent                 749\n",
      "Size                 749\n",
      "Floor                749\n",
      "Area Type            749\n",
      "Area Locality        749\n",
      "City                 749\n",
      "Furnishing Status    749\n",
      "Tenant Preferred     749\n",
      "Bathroom             749\n",
      "Point of Contact     749\n",
      "dtype: int64\n"
     ]
    }
   ],
   "source": [
    "validation = df[~df.index.isin(train.index)]\n",
    "print(validation.dtypes)\n",
    "print(validation.count())"
   ]
  },
  {
   "cell_type": "markdown",
   "metadata": {
    "id": "EPQtld6m5YUy"
   },
   "source": [
    "Data Cleaning"
   ]
  },
  {
   "cell_type": "code",
   "execution_count": 11,
   "metadata": {
    "colab": {
     "base_uri": "https://localhost:8080/",
     "height": 354
    },
    "id": "XmqGu7vC5dSH",
    "outputId": "4f979f4a-b894-4dc6-e4bd-a7c8c57a74d3"
   },
   "outputs": [
    {
     "data": {
      "text/html": [
       "<div>\n",
       "<style scoped>\n",
       "    .dataframe tbody tr th:only-of-type {\n",
       "        vertical-align: middle;\n",
       "    }\n",
       "\n",
       "    .dataframe tbody tr th {\n",
       "        vertical-align: top;\n",
       "    }\n",
       "\n",
       "    .dataframe thead th {\n",
       "        text-align: right;\n",
       "    }\n",
       "</style>\n",
       "<table border=\"1\" class=\"dataframe\">\n",
       "  <thead>\n",
       "    <tr style=\"text-align: right;\">\n",
       "      <th></th>\n",
       "      <th>Posted On</th>\n",
       "      <th>BHK</th>\n",
       "      <th>Rent</th>\n",
       "      <th>Size</th>\n",
       "      <th>Floor</th>\n",
       "      <th>Area Type</th>\n",
       "      <th>Area Locality</th>\n",
       "      <th>City</th>\n",
       "      <th>Furnishing Status</th>\n",
       "      <th>Tenant Preferred</th>\n",
       "      <th>Bathroom</th>\n",
       "      <th>Point of Contact</th>\n",
       "    </tr>\n",
       "  </thead>\n",
       "  <tbody>\n",
       "    <tr>\n",
       "      <th>1879</th>\n",
       "      <td>2022-06-20</td>\n",
       "      <td>1</td>\n",
       "      <td>7000</td>\n",
       "      <td>400</td>\n",
       "      <td>Ground out of 2</td>\n",
       "      <td>Super Area</td>\n",
       "      <td>Mathikere</td>\n",
       "      <td>Bangalore</td>\n",
       "      <td>Semi-Furnished</td>\n",
       "      <td>Bachelors/Family</td>\n",
       "      <td>1</td>\n",
       "      <td>Contact Owner</td>\n",
       "    </tr>\n",
       "    <tr>\n",
       "      <th>4273</th>\n",
       "      <td>2022-05-20</td>\n",
       "      <td>3</td>\n",
       "      <td>14000</td>\n",
       "      <td>1000</td>\n",
       "      <td>1 out of 2</td>\n",
       "      <td>Super Area</td>\n",
       "      <td>Malakpet, NH 9</td>\n",
       "      <td>Hyderabad</td>\n",
       "      <td>Unfurnished</td>\n",
       "      <td>Bachelors/Family</td>\n",
       "      <td>2</td>\n",
       "      <td>Contact Owner</td>\n",
       "    </tr>\n",
       "    <tr>\n",
       "      <th>1199</th>\n",
       "      <td>2022-06-27</td>\n",
       "      <td>3</td>\n",
       "      <td>120000</td>\n",
       "      <td>1200</td>\n",
       "      <td>5 out of 14</td>\n",
       "      <td>Carpet Area</td>\n",
       "      <td>Salvation CHS, Dadar West</td>\n",
       "      <td>Mumbai</td>\n",
       "      <td>Furnished</td>\n",
       "      <td>Bachelors/Family</td>\n",
       "      <td>3</td>\n",
       "      <td>Contact Agent</td>\n",
       "    </tr>\n",
       "    <tr>\n",
       "      <th>3873</th>\n",
       "      <td>2022-07-10</td>\n",
       "      <td>3</td>\n",
       "      <td>28000</td>\n",
       "      <td>1050</td>\n",
       "      <td>5 out of 10</td>\n",
       "      <td>Carpet Area</td>\n",
       "      <td>Pallavaram</td>\n",
       "      <td>Chennai</td>\n",
       "      <td>Semi-Furnished</td>\n",
       "      <td>Bachelors/Family</td>\n",
       "      <td>3</td>\n",
       "      <td>Contact Agent</td>\n",
       "    </tr>\n",
       "    <tr>\n",
       "      <th>2522</th>\n",
       "      <td>2022-07-03</td>\n",
       "      <td>2</td>\n",
       "      <td>22000</td>\n",
       "      <td>800</td>\n",
       "      <td>3 out of 3</td>\n",
       "      <td>Super Area</td>\n",
       "      <td>Chhattarpur</td>\n",
       "      <td>Delhi</td>\n",
       "      <td>Furnished</td>\n",
       "      <td>Bachelors/Family</td>\n",
       "      <td>2</td>\n",
       "      <td>Contact Owner</td>\n",
       "    </tr>\n",
       "  </tbody>\n",
       "</table>\n",
       "</div>"
      ],
      "text/plain": [
       "       Posted On  BHK    Rent  Size            Floor    Area Type  \\\n",
       "1879  2022-06-20    1    7000   400  Ground out of 2   Super Area   \n",
       "4273  2022-05-20    3   14000  1000       1 out of 2   Super Area   \n",
       "1199  2022-06-27    3  120000  1200      5 out of 14  Carpet Area   \n",
       "3873  2022-07-10    3   28000  1050      5 out of 10  Carpet Area   \n",
       "2522  2022-07-03    2   22000   800       3 out of 3   Super Area   \n",
       "\n",
       "                  Area Locality       City Furnishing Status  \\\n",
       "1879                  Mathikere  Bangalore    Semi-Furnished   \n",
       "4273             Malakpet, NH 9  Hyderabad       Unfurnished   \n",
       "1199  Salvation CHS, Dadar West     Mumbai         Furnished   \n",
       "3873                 Pallavaram    Chennai    Semi-Furnished   \n",
       "2522                Chhattarpur      Delhi         Furnished   \n",
       "\n",
       "      Tenant Preferred  Bathroom Point of Contact  \n",
       "1879  Bachelors/Family         1    Contact Owner  \n",
       "4273  Bachelors/Family         2    Contact Owner  \n",
       "1199  Bachelors/Family         3    Contact Agent  \n",
       "3873  Bachelors/Family         3    Contact Agent  \n",
       "2522  Bachelors/Family         2    Contact Owner  "
      ]
     },
     "execution_count": 11,
     "metadata": {},
     "output_type": "execute_result"
    }
   ],
   "source": [
    "train.head()"
   ]
  },
  {
   "cell_type": "code",
   "execution_count": 12,
   "metadata": {
    "colab": {
     "base_uri": "https://localhost:8080/",
     "height": 658
    },
    "id": "hlBkn5kC5jGi",
    "outputId": "6780fb3a-2984-4c4f-f16d-d28f5432a93b"
   },
   "outputs": [
    {
     "data": {
      "text/html": [
       "<div>\n",
       "<style scoped>\n",
       "    .dataframe tbody tr th:only-of-type {\n",
       "        vertical-align: middle;\n",
       "    }\n",
       "\n",
       "    .dataframe tbody tr th {\n",
       "        vertical-align: top;\n",
       "    }\n",
       "\n",
       "    .dataframe thead th {\n",
       "        text-align: right;\n",
       "    }\n",
       "</style>\n",
       "<table border=\"1\" class=\"dataframe\">\n",
       "  <thead>\n",
       "    <tr style=\"text-align: right;\">\n",
       "      <th></th>\n",
       "      <th>Posted On</th>\n",
       "      <th>BHK</th>\n",
       "      <th>Rent</th>\n",
       "      <th>Size</th>\n",
       "      <th>Floor</th>\n",
       "      <th>Area Type</th>\n",
       "      <th>Area Locality</th>\n",
       "      <th>City</th>\n",
       "      <th>Furnishing Status</th>\n",
       "      <th>Tenant Preferred</th>\n",
       "      <th>Bathroom</th>\n",
       "    </tr>\n",
       "  </thead>\n",
       "  <tbody>\n",
       "    <tr>\n",
       "      <th>1879</th>\n",
       "      <td>2022-06-20</td>\n",
       "      <td>1</td>\n",
       "      <td>7000</td>\n",
       "      <td>400</td>\n",
       "      <td>Ground out of 2</td>\n",
       "      <td>Super Area</td>\n",
       "      <td>Mathikere</td>\n",
       "      <td>Bangalore</td>\n",
       "      <td>Semi-Furnished</td>\n",
       "      <td>Bachelors/Family</td>\n",
       "      <td>1</td>\n",
       "    </tr>\n",
       "    <tr>\n",
       "      <th>4273</th>\n",
       "      <td>2022-05-20</td>\n",
       "      <td>3</td>\n",
       "      <td>14000</td>\n",
       "      <td>1000</td>\n",
       "      <td>1 out of 2</td>\n",
       "      <td>Super Area</td>\n",
       "      <td>Malakpet, NH 9</td>\n",
       "      <td>Hyderabad</td>\n",
       "      <td>Unfurnished</td>\n",
       "      <td>Bachelors/Family</td>\n",
       "      <td>2</td>\n",
       "    </tr>\n",
       "    <tr>\n",
       "      <th>1199</th>\n",
       "      <td>2022-06-27</td>\n",
       "      <td>3</td>\n",
       "      <td>120000</td>\n",
       "      <td>1200</td>\n",
       "      <td>5 out of 14</td>\n",
       "      <td>Carpet Area</td>\n",
       "      <td>Salvation CHS, Dadar West</td>\n",
       "      <td>Mumbai</td>\n",
       "      <td>Furnished</td>\n",
       "      <td>Bachelors/Family</td>\n",
       "      <td>3</td>\n",
       "    </tr>\n",
       "    <tr>\n",
       "      <th>3873</th>\n",
       "      <td>2022-07-10</td>\n",
       "      <td>3</td>\n",
       "      <td>28000</td>\n",
       "      <td>1050</td>\n",
       "      <td>5 out of 10</td>\n",
       "      <td>Carpet Area</td>\n",
       "      <td>Pallavaram</td>\n",
       "      <td>Chennai</td>\n",
       "      <td>Semi-Furnished</td>\n",
       "      <td>Bachelors/Family</td>\n",
       "      <td>3</td>\n",
       "    </tr>\n",
       "    <tr>\n",
       "      <th>2522</th>\n",
       "      <td>2022-07-03</td>\n",
       "      <td>2</td>\n",
       "      <td>22000</td>\n",
       "      <td>800</td>\n",
       "      <td>3 out of 3</td>\n",
       "      <td>Super Area</td>\n",
       "      <td>Chhattarpur</td>\n",
       "      <td>Delhi</td>\n",
       "      <td>Furnished</td>\n",
       "      <td>Bachelors/Family</td>\n",
       "      <td>2</td>\n",
       "    </tr>\n",
       "    <tr>\n",
       "      <th>...</th>\n",
       "      <td>...</td>\n",
       "      <td>...</td>\n",
       "      <td>...</td>\n",
       "      <td>...</td>\n",
       "      <td>...</td>\n",
       "      <td>...</td>\n",
       "      <td>...</td>\n",
       "      <td>...</td>\n",
       "      <td>...</td>\n",
       "      <td>...</td>\n",
       "      <td>...</td>\n",
       "    </tr>\n",
       "    <tr>\n",
       "      <th>3886</th>\n",
       "      <td>2022-05-30</td>\n",
       "      <td>1</td>\n",
       "      <td>7000</td>\n",
       "      <td>150</td>\n",
       "      <td>Ground out of 2</td>\n",
       "      <td>Super Area</td>\n",
       "      <td>Musheerabad</td>\n",
       "      <td>Hyderabad</td>\n",
       "      <td>Unfurnished</td>\n",
       "      <td>Bachelors/Family</td>\n",
       "      <td>1</td>\n",
       "    </tr>\n",
       "    <tr>\n",
       "      <th>1652</th>\n",
       "      <td>2022-05-23</td>\n",
       "      <td>1</td>\n",
       "      <td>7500</td>\n",
       "      <td>600</td>\n",
       "      <td>1 out of 2</td>\n",
       "      <td>Super Area</td>\n",
       "      <td>Bommanahalli</td>\n",
       "      <td>Bangalore</td>\n",
       "      <td>Semi-Furnished</td>\n",
       "      <td>Bachelors/Family</td>\n",
       "      <td>1</td>\n",
       "    </tr>\n",
       "    <tr>\n",
       "      <th>3807</th>\n",
       "      <td>2022-06-11</td>\n",
       "      <td>2</td>\n",
       "      <td>10000</td>\n",
       "      <td>700</td>\n",
       "      <td>Ground out of 2</td>\n",
       "      <td>Super Area</td>\n",
       "      <td>Zamin Pallavaram, Pallavaram</td>\n",
       "      <td>Chennai</td>\n",
       "      <td>Unfurnished</td>\n",
       "      <td>Bachelors/Family</td>\n",
       "      <td>2</td>\n",
       "    </tr>\n",
       "    <tr>\n",
       "      <th>2963</th>\n",
       "      <td>2022-06-29</td>\n",
       "      <td>2</td>\n",
       "      <td>16500</td>\n",
       "      <td>950</td>\n",
       "      <td>2 out of 4</td>\n",
       "      <td>Carpet Area</td>\n",
       "      <td>Indraprastha Extension, Patparganj</td>\n",
       "      <td>Delhi</td>\n",
       "      <td>Unfurnished</td>\n",
       "      <td>Bachelors</td>\n",
       "      <td>1</td>\n",
       "    </tr>\n",
       "    <tr>\n",
       "      <th>3799</th>\n",
       "      <td>2022-05-25</td>\n",
       "      <td>3</td>\n",
       "      <td>70000</td>\n",
       "      <td>1450</td>\n",
       "      <td>Ground out of 2</td>\n",
       "      <td>Super Area</td>\n",
       "      <td>Madipakkam</td>\n",
       "      <td>Chennai</td>\n",
       "      <td>Unfurnished</td>\n",
       "      <td>Bachelors/Family</td>\n",
       "      <td>2</td>\n",
       "    </tr>\n",
       "  </tbody>\n",
       "</table>\n",
       "<p>2997 rows × 11 columns</p>\n",
       "</div>"
      ],
      "text/plain": [
       "       Posted On  BHK    Rent  Size            Floor    Area Type  \\\n",
       "1879  2022-06-20    1    7000   400  Ground out of 2   Super Area   \n",
       "4273  2022-05-20    3   14000  1000       1 out of 2   Super Area   \n",
       "1199  2022-06-27    3  120000  1200      5 out of 14  Carpet Area   \n",
       "3873  2022-07-10    3   28000  1050      5 out of 10  Carpet Area   \n",
       "2522  2022-07-03    2   22000   800       3 out of 3   Super Area   \n",
       "...          ...  ...     ...   ...              ...          ...   \n",
       "3886  2022-05-30    1    7000   150  Ground out of 2   Super Area   \n",
       "1652  2022-05-23    1    7500   600       1 out of 2   Super Area   \n",
       "3807  2022-06-11    2   10000   700  Ground out of 2   Super Area   \n",
       "2963  2022-06-29    2   16500   950       2 out of 4  Carpet Area   \n",
       "3799  2022-05-25    3   70000  1450  Ground out of 2   Super Area   \n",
       "\n",
       "                           Area Locality       City Furnishing Status  \\\n",
       "1879                           Mathikere  Bangalore    Semi-Furnished   \n",
       "4273                      Malakpet, NH 9  Hyderabad       Unfurnished   \n",
       "1199           Salvation CHS, Dadar West     Mumbai         Furnished   \n",
       "3873                          Pallavaram    Chennai    Semi-Furnished   \n",
       "2522                         Chhattarpur      Delhi         Furnished   \n",
       "...                                  ...        ...               ...   \n",
       "3886                         Musheerabad  Hyderabad       Unfurnished   \n",
       "1652                        Bommanahalli  Bangalore    Semi-Furnished   \n",
       "3807        Zamin Pallavaram, Pallavaram    Chennai       Unfurnished   \n",
       "2963  Indraprastha Extension, Patparganj      Delhi       Unfurnished   \n",
       "3799                          Madipakkam    Chennai       Unfurnished   \n",
       "\n",
       "      Tenant Preferred  Bathroom  \n",
       "1879  Bachelors/Family         1  \n",
       "4273  Bachelors/Family         2  \n",
       "1199  Bachelors/Family         3  \n",
       "3873  Bachelors/Family         3  \n",
       "2522  Bachelors/Family         2  \n",
       "...                ...       ...  \n",
       "3886  Bachelors/Family         1  \n",
       "1652  Bachelors/Family         1  \n",
       "3807  Bachelors/Family         2  \n",
       "2963         Bachelors         1  \n",
       "3799  Bachelors/Family         2  \n",
       "\n",
       "[2997 rows x 11 columns]"
      ]
     },
     "execution_count": 12,
     "metadata": {},
     "output_type": "execute_result"
    }
   ],
   "source": [
    "train.drop(['Point of Contact'],axis=1)"
   ]
  },
  {
   "cell_type": "code",
   "execution_count": 61,
   "metadata": {
    "colab": {
     "base_uri": "https://localhost:8080/",
     "height": 359
    },
    "id": "mOkB48dc5sgU",
    "outputId": "3f5048e4-8fdc-4d05-a3d5-756cb8d7751f"
   },
   "outputs": [
    {
     "data": {
      "text/plain": [
       "<AxesSubplot:>"
      ]
     },
     "execution_count": 61,
     "metadata": {},
     "output_type": "execute_result"
    },
    {
     "data": {
      "image/png": "[encoded data removed]",
      "text/plain": [
       "<Figure size 432x288 with 1 Axes>"
      ]
     },
     "metadata": {
      "needs_background": "light"
     },
     "output_type": "display_data"
    }
   ],
   "source": [
    "sns.heatmap(train.isnull(),yticklabels=False,cbar=False,cmap='viridis')"
   ]
  },
  {
   "cell_type": "code",
   "execution_count": 14,
   "metadata": {
    "colab": {
     "base_uri": "https://localhost:8080/"
    },
    "id": "qu0FdK_m6Zdp",
    "outputId": "e62f2e56-8754-47e6-d905-2d162af5af7b"
   },
   "outputs": [
    {
     "data": {
      "text/plain": [
       "Posted On            0\n",
       "BHK                  0\n",
       "Rent                 0\n",
       "Size                 0\n",
       "Floor                0\n",
       "Area Type            0\n",
       "Area Locality        0\n",
       "City                 0\n",
       "Furnishing Status    0\n",
       "Tenant Preferred     0\n",
       "Bathroom             0\n",
       "Point of Contact     0\n",
       "dtype: int64"
      ]
     },
     "execution_count": 14,
     "metadata": {},
     "output_type": "execute_result"
    }
   ],
   "source": [
    "train.isnull().sum()"
   ]
  },
  {
   "cell_type": "code",
   "execution_count": 15,
   "metadata": {
    "colab": {
     "base_uri": "https://localhost:8080/"
    },
    "id": "_r7QXT2k6jT4",
    "outputId": "c6334925-cde1-4f07-abe0-13b07a72c0d6"
   },
   "outputs": [
    {
     "name": "stdout",
     "output_type": "stream",
     "text": [
      "['Semi-Furnished' 'Unfurnished' 'Furnished']\n"
     ]
    }
   ],
   "source": [
    "print(train['Furnishing Status'].unique())"
   ]
  },
  {
   "cell_type": "code",
   "execution_count": 16,
   "metadata": {
    "colab": {
     "base_uri": "https://localhost:8080/"
    },
    "id": "F7hZLgJy7IKS",
    "outputId": "b6f9b1fd-dba9-4760-a416-aa66c865af36"
   },
   "outputs": [
    {
     "data": {
      "text/plain": [
       "1879    1\n",
       "4273    0\n",
       "1199    2\n",
       "3873    1\n",
       "2522    2\n",
       "       ..\n",
       "3886    0\n",
       "1652    1\n",
       "3807    0\n",
       "2963    0\n",
       "3799    0\n",
       "Name: Furnishing Status, Length: 2997, dtype: object"
      ]
     },
     "execution_count": 16,
     "metadata": {},
     "output_type": "execute_result"
    }
   ],
   "source": [
    "# Furnishing Status -> unfurnished 0 semi-furnished 1 furnished 2\n",
    "train.loc[train[\"Furnishing Status\"] == \"Furnished\", \"Furnishing Status\"] = 2\n",
    "train.loc[train[\"Furnishing Status\"] == \"Semi-Furnished\", \"Furnishing Status\"] = 1\n",
    "train.loc[train[\"Furnishing Status\"] == \"Unfurnished\", \"Furnishing Status\"] = 0\n",
    "train['Furnishing Status']"
   ]
  },
  {
   "cell_type": "code",
   "execution_count": 17,
   "metadata": {
    "colab": {
     "base_uri": "https://localhost:8080/"
    },
    "id": "zKn19EFKDuMf",
    "outputId": "568d9a2e-db16-4017-8edb-ee1f3653fbc0"
   },
   "outputs": [
    {
     "data": {
      "text/plain": [
       "2467    1\n",
       "1645    1\n",
       "3417    0\n",
       "3476    1\n",
       "3941    1\n",
       "       ..\n",
       "4426    1\n",
       "466     0\n",
       "3092    1\n",
       "3772    1\n",
       "860     1\n",
       "Name: Furnishing Status, Length: 1000, dtype: object"
      ]
     },
     "execution_count": 17,
     "metadata": {},
     "output_type": "execute_result"
    }
   ],
   "source": [
    "test.loc[test[\"Furnishing Status\"] == \"Furnished\", \"Furnishing Status\"] = 2\n",
    "test.loc[test[\"Furnishing Status\"] == \"Semi-Furnished\", \"Furnishing Status\"] = 1\n",
    "test.loc[test[\"Furnishing Status\"] == \"Unfurnished\", \"Furnishing Status\"] = 0\n",
    "test['Furnishing Status']"
   ]
  },
  {
   "cell_type": "code",
   "execution_count": null,
   "metadata": {
    "id": "QKfLY6xk7syD"
   },
   "outputs": [],
   "source": []
  },
  {
   "cell_type": "markdown",
   "metadata": {
    "id": "NtO4XkQq7x0O"
   },
   "source": [
    "Exploaratory Analysis"
   ]
  },
  {
   "cell_type": "code",
   "execution_count": 21,
   "metadata": {
    "colab": {
     "base_uri": "https://localhost:8080/",
     "height": 470
    },
    "id": "3g-B95xB71O_",
    "outputId": "f8cdb98d-ed86-4343-86e4-4f924ed963ea"
   },
   "outputs": [
    {
     "data": {
      "text/plain": [
       "[]"
      ]
     },
     "execution_count": 21,
     "metadata": {},
     "output_type": "execute_result"
    },
    {
     "data": {
      "image/png": "[encoded data removed]",
      "text/plain": [
       "<Figure size 648x504 with 1 Axes>"
      ]
     },
     "metadata": {
      "needs_background": "light"
     },
     "output_type": "display_data"
    }
   ],
   "source": [
    "plt.figure(figsize=(9, 7))\n",
    "sns.lineplot(x ='Size', y ='Rent', data = train)\n",
    "plt.plot()\n",
    "#scatter "
   ]
  },
  {
   "cell_type": "code",
   "execution_count": 19,
   "metadata": {
    "colab": {
     "base_uri": "https://localhost:8080/"
    },
    "id": "iLrvoGSS-Uxs",
    "outputId": "18746ade-b741-4a62-faac-34c7ad828525"
   },
   "outputs": [
    {
     "name": "stdout",
     "output_type": "stream",
     "text": [
      "['Bangalore' 'Hyderabad' 'Mumbai' 'Chennai' 'Delhi' 'Kolkata']\n"
     ]
    }
   ],
   "source": [
    "cities=train['City'].unique()\n",
    "print(cities)"
   ]
  },
  {
   "cell_type": "code",
   "execution_count": 20,
   "metadata": {
    "colab": {
     "base_uri": "https://localhost:8080/"
    },
    "id": "5bGF4B5j_NC2",
    "outputId": "257eceaf-bd26-44ad-d7d8-7c1e9e5072be"
   },
   "outputs": [
    {
     "name": "stdout",
     "output_type": "stream",
     "text": [
      "Bangalore  --> Rs. 21449.544\n",
      "Hyderabad  --> Rs. 20417.158\n",
      "Mumbai  --> Rs. 86410.592\n",
      "Chennai  --> Rs. 21449.697\n",
      "Delhi  --> Rs. 31445.799\n",
      "Kolkata  --> Rs. 11599.312\n",
      "Highest Average Rent is in  Mumbai\n"
     ]
    }
   ],
   "source": [
    "max=0\n",
    "high=\"\"\n",
    "for i in cities:\n",
    "  val=round(train[train['City']==i]['Rent'].mean(),3)\n",
    "  if(val>max):\n",
    "    max=val\n",
    "    high=i\n",
    "  print(i,\" --> Rs.\",val)\n",
    "\n",
    "print(\"Highest Average Rent is in \",high)"
   ]
  },
  {
   "cell_type": "markdown",
   "metadata": {
    "id": "z4yONd5fAkcF"
   },
   "source": [
    "Regression"
   ]
  },
  {
   "cell_type": "code",
   "execution_count": 28,
   "metadata": {
    "id": "9O5iyK2k_Zvi"
   },
   "outputs": [],
   "source": [
    "model = LinearRegression()"
   ]
  },
  {
   "cell_type": "code",
   "execution_count": 48,
   "metadata": {
    "colab": {
     "base_uri": "https://localhost:8080/"
    },
    "id": "el4RUN3hAlUC",
    "outputId": "36bce1c9-74e1-4868-fcbf-4cca53f03758"
   },
   "outputs": [
    {
     "name": "stdout",
     "output_type": "stream",
     "text": [
      "(2997, 1)\n",
      "1879      7000\n",
      "4273     14000\n",
      "1199    120000\n",
      "3873     28000\n",
      "2522     22000\n",
      "         ...  \n",
      "3886      7000\n",
      "1652      7500\n",
      "3807     10000\n",
      "2963     16500\n",
      "3799     70000\n",
      "Name: Rent, Length: 2997, dtype: int64\n"
     ]
    }
   ],
   "source": [
    "x_train=train['Size']\n",
    "x_train = np.squeeze(x_train)\n",
    "x_train = np.reshape(x_train.to_numpy(), (-1, 1))\n",
    "print(x_train.shape)\n",
    "model.fit(x_train, train['Rent'])\n",
    "print(train['Rent'])"
   ]
  },
  {
   "cell_type": "code",
   "execution_count": 51,
   "metadata": {
    "colab": {
     "base_uri": "https://localhost:8080/"
    },
    "id": "VNdOve0hCjNe",
    "outputId": "e2f500f2-d294-4dd8-bed8-881a2a2a0db1"
   },
   "outputs": [
    {
     "name": "stdout",
     "output_type": "stream",
     "text": [
      "[51.3257459]\n"
     ]
    }
   ],
   "source": [
    "print(model.coef_)"
   ]
  },
  {
   "cell_type": "code",
   "execution_count": 52,
   "metadata": {
    "colab": {
     "base_uri": "https://localhost:8080/"
    },
    "id": "iukpUiwbCwod",
    "outputId": "052166ac-4328-41f1-dcc9-9ca506330c4d"
   },
   "outputs": [
    {
     "name": "stdout",
     "output_type": "stream",
     "text": [
      "-14882.081996177367\n"
     ]
    }
   ],
   "source": [
    "print(model.intercept_)"
   ]
  },
  {
   "cell_type": "code",
   "execution_count": 53,
   "metadata": {
    "colab": {
     "base_uri": "https://localhost:8080/"
    },
    "id": "WFFx-YpmDUMC",
    "outputId": "d6455a66-0d53-41a1-857a-5edc7650130d"
   },
   "outputs": [
    {
     "name": "stdout",
     "output_type": "stream",
     "text": [
      "      Size\n",
      "3159   800\n",
      "1344  2500\n",
      "4031   800\n",
      "4253  1250\n",
      "1744   500\n",
      "...    ...\n",
      "3208  1500\n",
      "3502  1800\n",
      "1854  1100\n",
      "4248  1200\n",
      "1205  1130\n",
      "\n",
      "[749 rows x 1 columns]\n"
     ]
    }
   ],
   "source": [
    "x_test=validation[['Size']]\n",
    "print(x_test)"
   ]
  },
  {
   "cell_type": "code",
   "execution_count": 54,
   "metadata": {
    "id": "9r-elFkSD1We"
   },
   "outputs": [],
   "source": [
    "y_test=validation['Rent']"
   ]
  },
  {
   "cell_type": "code",
   "execution_count": 55,
   "metadata": {
    "colab": {
     "base_uri": "https://localhost:8080/"
    },
    "id": "HnhLkjU_Eux5",
    "outputId": "12671af0-23ed-457b-e827-e9e0fdd0eb68"
   },
   "outputs": [],
   "source": [
    "predictions = model.predict(x_test)"
   ]
  },
  {
   "cell_type": "code",
   "execution_count": 56,
   "metadata": {
    "colab": {
     "base_uri": "https://localhost:8080/"
    },
    "id": "iC_cE3YrC3i1",
    "outputId": "f9465d30-9b65-43fc-85bf-6f84d906112e"
   },
   "outputs": [
    {
     "data": {
      "text/plain": [
       "31219.225906170712"
      ]
     },
     "execution_count": 56,
     "metadata": {},
     "output_type": "execute_result"
    }
   ],
   "source": [
    "metrics.mean_absolute_error(y_test, predictions)"
   ]
  },
  {
   "cell_type": "code",
   "execution_count": 57,
   "metadata": {
    "colab": {
     "base_uri": "https://localhost:8080/",
     "height": 442
    },
    "id": "LP5pux7DsxKv",
    "outputId": "fcea21f4-6bb2-4a86-8331-9e2210ceda11"
   },
   "outputs": [
    {
     "data": {
      "image/png": "[encoded data removed]",
      "text/plain": [
       "<Figure size 648x504 with 1 Axes>"
      ]
     },
     "metadata": {
      "needs_background": "light"
     },
     "output_type": "display_data"
    }
   ],
   "source": [
    "plt.figure(figsize=(9, 7))\n",
    "plt.scatter(x_test, y_test,  color='black')\n",
    "plt.plot(x_test, predictions, color='blue', linewidth=3)\n",
    "plt.xlabel('Size')\n",
    "plt.ylabel('Rent')\n",
    "plt.legend(['Predcited Values','Original Values'],bbox_to_anchor =(1.0, 0.7))\n",
    "plt.show()"
   ]
  },
  {
   "cell_type": "code",
   "execution_count": 58,
   "metadata": {
    "colab": {
     "base_uri": "https://localhost:8080/"
    },
    "id": "3Na6DiCvyruJ",
    "outputId": "672ce45f-715e-43a5-947f-76f70102abea"
   },
   "outputs": [
    {
     "data": {
      "text/plain": [
       "132269.59809722926"
      ]
     },
     "execution_count": 58,
     "metadata": {},
     "output_type": "execute_result"
    }
   ],
   "source": [
    "np.sqrt(metrics.mean_squared_error(y_test, predictions))"
   ]
  },
  {
   "cell_type": "code",
   "execution_count": 59,
   "metadata": {
    "colab": {
     "base_uri": "https://localhost:8080/"
    },
    "id": "wn7RzUnb0tcw",
    "outputId": "f174f88f-7072-4139-aa85-a4bb3dea5d2c"
   },
   "outputs": [
    {
     "name": "stdout",
     "output_type": "stream",
     "text": [
      "[ 2.61785147e+04  1.13432283e+05  2.61785147e+04  4.92751004e+04\n",
      "  1.07807910e+04  8.21450366e+03  5.64821636e+03  2.87448020e+04\n",
      "  4.97883578e+04  1.07807910e+04  3.64436639e+04  1.39095156e+05\n",
      "  2.10459401e+04  2.10459401e+04  1.59133655e+04  8.21450366e+03\n",
      "  1.33470782e+04  2.87448020e+04 -7.18322011e+03  3.13110893e+04\n",
      "  6.21065368e+04  1.95810105e+05  2.77182871e+04  2.10459401e+04\n",
      "  5.69739623e+04  1.48868506e+04  1.59133655e+04  5.64821636e+03\n",
      "  5.97455525e+04  1.08299708e+05  5.95402496e+04  1.39095156e+05\n",
      "  4.97883578e+04  1.59133655e+04  1.95061678e+04  5.44076750e+04\n",
      "  1.59133655e+04 -1.20591660e+04  2.36122274e+04  1.59133655e+04\n",
      "  2.87448020e+04  4.90697974e+04  3.08192907e+03 -1.07760223e+04\n",
      "  2.10459401e+04  2.61785147e+04 -7.69647757e+03  1.07807910e+04\n",
      "  1.59133655e+04  2.10459401e+04  5.69739623e+04  1.70938577e+04\n",
      "  4.67088131e+04  2.61785147e+04  3.74701788e+04  2.10459401e+04\n",
      "  3.13110893e+04  4.15762385e+04  2.10459401e+04  4.15762385e+04\n",
      "  2.87448020e+04  4.61955556e+04  2.20724550e+04  1.07807910e+04\n",
      "  6.21065368e+04  2.36122274e+04  5.64821636e+03  2.61785147e+04\n",
      "  9.85478164e+04  3.64436639e+04  7.23716860e+04  1.33470782e+04\n",
      "  2.10459401e+04  1.07807910e+04 -2.05064552e+03  5.44076750e+04\n",
      "  2.10459401e+04  5.64821636e+03  1.07807910e+04  1.33470782e+04\n",
      "  1.59133655e+04  1.07807910e+04  3.64436639e+04  3.64436639e+04\n",
      "  3.38773766e+04  4.41425258e+04  2.36122274e+04  3.13110893e+04\n",
      "  3.64436639e+04  1.59133655e+04  2.61785147e+04  4.15762385e+04\n",
      "  1.59133655e+04  2.36122274e+04  3.96258601e+04  2.61785147e+04\n",
      "  3.13110893e+04  5.15641772e+02  3.13110893e+04 -4.59547400e+02\n",
      "  4.87833017e+03  3.01819229e+04  4.00364661e+04  4.23461247e+04\n",
      "  1.71965092e+04  3.64436639e+04  2.61785147e+04  8.21450366e+03\n",
      "  5.56908186e+04  3.13110893e+04  4.15762385e+04  2.87448020e+04\n",
      "  5.08148727e+04  8.21450366e+03  6.81116491e+04  2.36122274e+04\n",
      "  5.64821636e+03  1.33470782e+04  2.61785147e+04  2.10459401e+04\n",
      "  2.87448020e+04  1.59133655e+04  5.64821636e+03  5.44076750e+04\n",
      "  3.64436639e+04  1.18073059e+04  3.38773766e+04  2.61785147e+04\n",
      "  2.61785147e+04  3.13110893e+04  1.28830007e+05  1.07807910e+04\n",
      "  3.75215046e+04 -1.24184462e+04  1.59133655e+04  2.61785147e+04\n",
      " -7.18322011e+03  2.36122274e+04  2.10459401e+04  2.10459401e+04\n",
      " -1.18025372e+04  7.75042606e+04  5.18413877e+04  2.10459401e+04\n",
      "  6.21065368e+04  2.10459401e+04  4.26540792e+04  1.39095156e+05\n",
      "  4.15762385e+04  3.64436639e+04  5.64821636e+03  2.61785147e+04\n",
      "  1.95061678e+04  1.59133655e+04  4.67088131e+04  1.33470782e+04\n",
      "  3.38773766e+04  1.97627965e+04  4.15762385e+04  1.59133655e+04\n",
      "  2.20724550e+04  2.02760539e+04 -1.00267178e+02  3.64436639e+04\n",
      "  1.64266230e+04  3.64436639e+04  3.64436639e+04  1.59133655e+04\n",
      "  7.75042606e+04  6.56993391e+04  1.35245725e+05  2.61785147e+04\n",
      "  6.46728241e+04  5.69739623e+04  1.84796528e+04  4.91724489e+04\n",
      "  4.28593821e+04  3.13110893e+04  1.84796528e+04  8.72776112e+03\n",
      "  2.87448020e+04  5.64821636e+03  3.13110893e+04  1.59133655e+04\n",
      " -1.35989383e+04  8.21450366e+03  1.03167134e+05  5.15641772e+02\n",
      "  1.33470782e+04  5.69739623e+04  3.13110893e+04  8.21450366e+03\n",
      "  2.12512431e+04  3.64436639e+04  2.10459401e+04  4.15762385e+04\n",
      "  2.74616584e+04  1.59133655e+04  6.19012339e+04  8.21450366e+03\n",
      "  3.38773766e+04  1.54492879e+05 -5.02753878e+03  5.64821636e+03\n",
      "  3.38773766e+04  6.21065368e+04  2.87448020e+04  3.43906341e+04\n",
      "  7.19097543e+04  3.13110893e+04  1.07807910e+04  3.13110893e+04\n",
      "  3.64436639e+04  1.07807910e+04  4.43991545e+04  8.47113239e+03\n",
      "  5.15641772e+02  2.10459401e+04  2.20724550e+04  1.59133655e+04\n",
      "  5.64821636e+03  1.28338208e+04  6.21065368e+04  1.95061678e+04\n",
      "  8.21450366e+03  4.15762385e+04  2.05541415e+03  1.59133655e+04\n",
      "  1.25771921e+04  9.80345590e+04  7.23716860e+04  5.15641772e+02\n",
      "  8.21450366e+03  3.13110893e+04  1.84796528e+04  1.74531379e+04\n",
      "  8.77694098e+04  6.33896805e+04  5.18413877e+04  1.07807910e+04\n",
      "  2.66917722e+04  2.92580595e+04  5.95402496e+04  8.21450366e+03\n",
      "  8.32527442e+04  2.87448020e+04  4.41425258e+04  3.38773766e+04\n",
      "  4.15762385e+04  3.64436639e+04  5.69739623e+04  2.61785147e+04\n",
      "  1.07807910e+04  2.36122274e+04  9.49764730e+03  1.07807910e+04\n",
      "  2.00194252e+04  4.67088131e+04  8.77694098e+04 -4.61693282e+03\n",
      "  1.07807910e+04  5.64821636e+03  2.10459401e+04  1.59133655e+04\n",
      "  5.69739623e+04  5.44076750e+04  4.67088131e+04  4.62170144e+03\n",
      "  2.87448020e+04  6.77738277e+03  6.21065368e+04  1.07807910e+04\n",
      "  4.42451773e+04  1.59133655e+04 -4.61693282e+03  8.21450366e+03\n",
      "  1.97114707e+04  1.07294652e+04  5.23761039e+03  2.61785147e+04\n",
      "  1.59133655e+04  4.92751004e+04  1.59133655e+04  7.58618367e+04\n",
      "  8.77694098e+04  1.84796528e+04  6.72391114e+04  2.61785147e+04\n",
      "  5.15641772e+02  9.39284993e+04  3.38773766e+04  1.02675335e+04\n",
      " -3.59041790e+03  2.87448020e+04 -2.05064552e+03 -4.61693282e+03\n",
      " -1.18025372e+04  6.21065368e+04  7.75042606e+04  5.95402496e+04\n",
      "  3.64436639e+04 -4.61693282e+03  2.10459401e+04  3.13110893e+04\n",
      "  8.21450366e+03  3.08192907e+03  4.15762385e+04  1.64758029e+05\n",
      "  5.64821636e+03  5.64821636e+03  8.47113239e+03  5.64821636e+03\n",
      "  3.49038915e+04  1.59133655e+04 -8.72299249e+03  5.18413877e+04\n",
      "  5.69739623e+04  2.10459401e+04  3.38773766e+04  5.64821636e+03\n",
      "  3.38773766e+04  6.46942830e+03  3.64436639e+04  1.07807910e+04\n",
      "  7.72270502e+02  2.36122274e+04  1.18073059e+04  1.79878542e+03\n",
      "  7.45273674e+04  1.33470782e+04  2.36122274e+04  4.67088131e+04\n",
      "  8.21450366e+03  5.31245313e+04  4.67088131e+04 -4.61693282e+03\n",
      "  1.59133655e+04 -1.33423096e+04  1.13432283e+05  5.18413877e+04\n",
      " -9.74950741e+03  3.64436639e+04  1.33470782e+04  1.84796528e+04\n",
      "  3.64436639e+04  4.15762385e+04  2.36122274e+04  6.72391114e+04\n",
      "  1.33470782e+04 -7.67501875e+02  1.07807910e+04  7.23716860e+04\n",
      "  4.67088131e+04  5.35351373e+04  4.67088131e+04  1.33470782e+04\n",
      "  5.87703634e+04  2.61785147e+04  7.75042606e+04  3.52118460e+04\n",
      "  3.38773766e+04  1.66832517e+04  2.61785147e+04  2.10459401e+04\n",
      "  3.64436639e+04  2.10459401e+04  9.80345590e+04  1.59133655e+04\n",
      "  1.90420902e+05  1.84796528e+04  1.79878542e+03  2.16083775e+05\n",
      "  2.36122274e+04  1.03577740e+05  5.18413877e+04  3.13110893e+04\n",
      "  1.84796528e+04  3.64436639e+04  1.33470782e+04  2.29479794e+05\n",
      "  1.33470782e+04  6.72391114e+04  2.10459401e+04  3.38773766e+04\n",
      "  7.18798874e+03  8.21450366e+03  1.64480818e+03  1.46302219e+04\n",
      "  3.08192907e+03  3.64436639e+04  4.67088131e+04  3.64436639e+04\n",
      "  3.64436639e+04  2.36122274e+04  6.72391114e+04  2.87448020e+04\n",
      "  2.50493483e+04  3.42366568e+04  4.67088131e+04  6.72391114e+04\n",
      "  2.10459401e+04  4.41425258e+04  8.21450366e+03  4.15762385e+04\n",
      "  4.67088131e+04  1.59133655e+04  8.77694098e+04  8.21450366e+03\n",
      "  2.10459401e+04  2.61785147e+04  2.64864692e+04 -1.12892798e+04\n",
      "  8.21450366e+03  2.87448020e+04  5.64821636e+03  2.36122274e+04\n",
      " -1.02413060e+03  2.82315446e+04  4.56822982e+04  3.64436639e+04\n",
      "  1.13432283e+05  7.75042606e+04  6.72391114e+04  1.59133655e+04\n",
      "  2.87448020e+04 -2.05064552e+03  1.79663954e+04  1.84796528e+04\n",
      "  2.10459401e+04  3.08192907e+03  4.67088131e+04  4.67088131e+04\n",
      "  5.63067276e+04  1.23697432e+05  8.77694098e+04  2.07379857e+04\n",
      "  3.07978319e+04  1.18073059e+04  2.87448020e+04  3.64436639e+04\n",
      "  2.54086285e+04  1.59133655e+04  1.59133655e+04  3.13110893e+04\n",
      "  4.15762385e+04  4.67088131e+04  3.43906341e+04  1.59133655e+04\n",
      "  2.61785147e+04  2.61785147e+04 -8.72299249e+03  6.98053987e+04\n",
      "  2.10459401e+04  1.07807910e+04  3.08192907e+03  9.29019844e+04\n",
      "  2.87448020e+04  6.50321044e+04  3.64436639e+04  8.21450366e+03\n",
      "  5.15641772e+02  2.61785147e+04  1.07807910e+04  3.90099512e+04\n",
      "  5.15641772e+02  3.64436639e+04  8.55110770e+04  1.23205633e+04\n",
      "  4.15762385e+04  6.67473128e+03  8.77694098e+04  4.15762385e+04\n",
      "  3.13110893e+04  1.33470782e+04  2.61785147e+04  6.21065368e+04\n",
      "  3.23376042e+04  1.84796528e+04  3.64436639e+04 -4.61693282e+03\n",
      "  8.72776112e+03  2.61785147e+04  1.22208985e+05  4.41425258e+04\n",
      "  4.46772421e+03  5.69739623e+04  5.95402496e+04  4.67088131e+04\n",
      "  2.61785147e+04 -8.46636376e+03  4.15762385e+04  1.84796528e+04\n",
      "  4.15762385e+04  8.21450366e+03  4.15762385e+04  1.46302219e+04\n",
      "  2.61785147e+04  3.13110893e+04  7.75042606e+04  3.64436639e+04\n",
      "  3.07465061e+04  3.13110893e+04  4.26540792e+04  3.64436639e+04\n",
      "  3.99338146e+04  5.18413877e+04  1.74531379e+04  1.59133655e+04\n",
      " -9.74950741e+03  9.29019844e+04  3.77268075e+04  2.87448020e+04\n",
      "  1.07807910e+04  2.87448020e+04  2.10459401e+04  2.36122274e+04\n",
      "  1.33470782e+04  5.69739623e+04  6.07207417e+04  1.23697432e+05\n",
      "  1.59133655e+04  2.10459401e+04  3.64436639e+04  6.01561585e+04\n",
      "  2.25857125e+04  2.87448020e+04  4.15762385e+04  8.77694098e+04\n",
      "  1.84796528e+04  5.18413877e+04  5.18413877e+04  4.67088131e+04\n",
      "  1.33470782e+04  3.90099512e+04  7.75042606e+04  3.69569214e+04\n",
      "  4.15762385e+04  1.69398805e+04 -2.05064552e+03  1.07807910e+04\n",
      "  8.21450366e+03  4.15762385e+04  7.75042606e+04  3.64436639e+04\n",
      "  6.16147382e+03  1.84796528e+04  5.64821636e+03  2.36122274e+04\n",
      "  5.18413877e+04  1.33470782e+04  2.61785147e+04  7.23716860e+04\n",
      "  4.67088131e+04  3.13110893e+04  2.30989700e+04  3.17730210e+04\n",
      "  1.41169644e+04  1.84796528e+04  2.61785147e+04  1.07807910e+04\n",
      "  3.64436639e+04  1.84796528e+04 -2.05064552e+03  2.10459401e+04\n",
      "  7.23716860e+04  3.13110893e+04  3.06951804e+04  8.57163800e+04\n",
      "  3.13110893e+04  5.18413877e+04  3.13110893e+04  1.33470782e+04\n",
      "  3.64436639e+04  6.21065368e+04  7.75042606e+04  9.80345590e+04\n",
      "  3.64436639e+04  5.15641772e+02  3.08192907e+03  1.59133655e+04\n",
      "  2.10459401e+04  7.23716860e+04  2.36122274e+04  8.21450366e+03\n",
      "  2.61785147e+04  8.21450366e+03  4.41425258e+04  4.65548358e+04\n",
      "  6.77523689e+04  1.33470782e+04  5.81031287e+04 -8.20973503e+03\n",
      "  1.33470782e+04  1.41169644e+04  1.28338208e+04  1.62448370e+05\n",
      "  2.87448020e+04  5.64821636e+03  2.61785147e+04  4.67088131e+04\n",
      "  1.59133655e+04  2.10459401e+04  7.49379733e+04  4.92751004e+04\n",
      "  1.84796528e+04  5.18413877e+04 -9.23624995e+03  2.61785147e+04\n",
      "  1.07807910e+04  4.67088131e+04  1.33470782e+04  1.20639346e+04\n",
      "  7.39329172e+03  1.32936066e+05  6.21065368e+04  1.74531379e+04\n",
      "  2.36122274e+04  4.15762385e+04  1.07807910e+04  2.10459401e+04\n",
      "  1.08299708e+05  3.64436639e+04  3.38773766e+04  6.21065368e+04\n",
      "  1.33470782e+04  6.46728241e+04  3.59304064e+04  3.54171490e+04\n",
      "  1.49360305e+05  5.64821636e+03  1.09839481e+05  3.38773766e+04\n",
      "  5.18413877e+04  5.44076750e+04  6.72391114e+04  2.10459401e+04\n",
      "  3.64436639e+04  6.31545106e+03  6.21065368e+04  4.15762385e+04\n",
      "  1.59133655e+04 -1.23157947e+04  1.04039671e+05  2.36122274e+04\n",
      "  1.84796528e+04  4.05497236e+04  2.46900681e+04  3.64436639e+04\n",
      "  1.59133655e+04  4.41425258e+04  5.64821636e+03  1.07807910e+04\n",
      "  5.18413877e+04  7.54512308e+04 -8.20973503e+03  6.93136001e+03\n",
      "  2.36122274e+04  1.51434794e+04  5.95402496e+04  3.13110893e+04\n",
      "  2.10459401e+04  3.90099512e+04  3.38773766e+04  1.59133655e+04\n",
      "  5.86163861e+04  2.21751065e+04  1.59133655e+04  2.10459401e+04\n",
      "  6.72391114e+04  4.15762385e+04  5.64821636e+03  1.23205633e+04\n",
      "  1.94548420e+04  1.07807910e+04  7.75042606e+04  3.54171490e+04\n",
      "  1.59133655e+04 -1.35989383e+04  6.72391114e+04  6.16959309e+04\n",
      "  2.36122274e+04  3.64436639e+04  3.13110893e+04  4.67088131e+04\n",
      "  2.61785147e+04 -4.61693282e+03  7.75042606e+04 -6.66996265e+03\n",
      "  3.64436639e+04  3.38773766e+04  6.98053987e+04  1.84796528e+04\n",
      "  4.67088131e+04  3.13110893e+04  5.44076750e+04  2.36122274e+04\n",
      "  4.67088131e+04  3.64436639e+04  7.44461747e+03  5.69739623e+04\n",
      "  1.59133655e+04  5.64821636e+03  5.44076750e+04  3.08192907e+03\n",
      "  2.61785147e+04  3.18243468e+04  3.64436639e+04  3.13110893e+04\n",
      "  7.69396774e+04  3.64436639e+04  1.50408279e+04  2.17131748e+04\n",
      "  4.77353280e+04  5.15641772e+02  1.07807910e+04  5.08661985e+04\n",
      "  3.64436639e+04  3.90099512e+04  3.13110893e+04  4.67088131e+04\n",
      "  3.13110893e+04  3.13110893e+04  4.67088131e+04  3.64436639e+04\n",
      "  6.21065368e+04  4.46557832e+04  2.10459401e+04  2.87448020e+04\n",
      "  3.72648758e+04  7.18798874e+03  5.64821636e+03  4.15762385e+04\n",
      "  8.21450366e+03  4.15762385e+04  4.67088131e+04  4.92751004e+04\n",
      "  1.07807910e+04  6.21065368e+04  2.05326827e+04  1.13432283e+05\n",
      "  1.07807910e+04  9.64947866e+04  4.92751004e+04  4.15762385e+04\n",
      "  6.21065368e+04  7.75042606e+04  4.15762385e+04  4.67088131e+04\n",
      "  4.31160109e+04]\n"
     ]
    }
   ],
   "source": [
    "print(predictions)"
   ]
  },
  {
   "cell_type": "code",
   "execution_count": null,
   "metadata": {
    "id": "e9r56EvF00jG"
   },
   "outputs": [],
   "source": []
  }
 ],
 "metadata": {
  "colab": {
   "provenance": []
  },
  "kernelspec": {
   "display_name": "Python 3",
   "language": "python",
   "name": "python3"
  },
  "language_info": {
   "codemirror_mode": {
    "name": "ipython",
    "version": 3
   },
   "file_extension": ".py",
   "mimetype": "text/x-python",
   "name": "python",
   "nbconvert_exporter": "python",
   "pygments_lexer": "ipython3",
   "version": "3.8.2"
  }
 },
 "nbformat": 4,
 "nbformat_minor": 1
}
